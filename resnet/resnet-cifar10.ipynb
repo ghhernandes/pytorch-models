{
 "cells": [
  {
   "cell_type": "code",
   "execution_count": 1,
   "id": "accepted-vehicle",
   "metadata": {},
   "outputs": [],
   "source": [
    "from ResNet import ResNet18, ResNet34, ResNet50, ResNet101, ResNet152\n",
    "from torchvision import datasets, models\n",
    "import torchvision.transforms as transforms\n",
    "import torch.nn as nn\n",
    "import torch.optim as optim\n",
    "import torch\n",
    "import torchvision\n",
    "import os\n",
    "import time\n",
    "\n",
    "import matplotlib.pyplot as plt\n",
    "import numpy as np"
   ]
  },
  {
   "cell_type": "code",
   "execution_count": null,
   "id": "thick-start",
   "metadata": {},
   "outputs": [],
   "source": [
    "def create_model():\n",
    "    model = ResNet18(pretrained=True)\n",
    "    model.fc = nn.Linear(model.fc.in_features, 10)\n",
    "\n",
    "    model = model.to(device)\n",
    "    return model\n",
    "\n",
    "def dataset_loaders():\n",
    "    transform = transforms.Compose([\n",
    "        transforms.ToTensor(),\n",
    "        transforms.Normalize((0.5, 0.5, 0.5), (0.5, 0.5, 0.5))\n",
    "    ])\n",
    "    \n",
    "    train_set = datasets.CIFAR10(root='./data/', train=True, download=True, transform=transform)\n",
    "    test_set = datasets.CIFAR10(root='./data/', train=False, download=True, transform=transform)\n",
    "    \n",
    "    train_loader = torch.utils.data.DataLoader(dataset=train_set, batch_size=32, num_workers=8, shuffle=True)\n",
    "    test_loader = torch.utils.data.DataLoader(dataset=test_set, batch_size=32, num_workers=8, shuffle=True)\n",
    "    print(f\"{train_set.classes}\")\n",
    "    return (train_loader, test_loader)\n",
    "\n",
    "def imshow(img):\n",
    "    img = img / 2 + 0.5     # unnormalize\n",
    "    npimg = img.numpy()\n",
    "    plt.imshow(np.transpose(npimg, (1, 2, 0)))\n",
    "    plt.show()\n",
    "    \n",
    "def show_predicts(images, labels):\n",
    "    imshow(torchvision.utils.make_grid(images))\n",
    "    print('Predicted: ', [torch.argmax(x) for x in labels])"
   ]
  },
  {
   "cell_type": "code",
   "execution_count": 2,
   "id": "complete-wrist",
   "metadata": {},
   "outputs": [
    {
     "name": "stdout",
     "output_type": "stream",
     "text": [
      "pretrained\n"
     ]
    }
   ],
   "source": [
    "model = ResNet18(pretrained=True)"
   ]
  },
  {
   "cell_type": "code",
   "execution_count": null,
   "id": "otherwise-steel",
   "metadata": {},
   "outputs": [],
   "source": [
    "%%time \n",
    "train_loader, test_loader = dataset_loaders()\n",
    "data_iterator = iter(test_loader)\n",
    "images, labels = next(data_iterator)\n",
    "show_predicts(images, labels)"
   ]
  },
  {
   "cell_type": "code",
   "execution_count": null,
   "id": "charged-combine",
   "metadata": {},
   "outputs": [],
   "source": [
    "def train(model, criterion, optimizer, dataloaders, epochs=25):\n",
    "    start_time = time.time()\n",
    "    \n",
    "    best_acc = 0.00\n",
    "    \n",
    "    datasize = dict()\n",
    "    datasize['train'], datasize['val'] = len(dataloaders['train']), len(dataloaders['val'])\n",
    "    \n",
    "    for epoch in range(epochs):\n",
    "        print(f'Epoch {epoch}/{epochs-1}')\n",
    "        \n",
    "        for phase in ['train', 'val']:\n",
    "            if phase == 'train':\n",
    "                model.train()\n",
    "            else:\n",
    "                model.eval()\n",
    "                \n",
    "            loss = 0.00\n",
    "            corrects = 0\n",
    "            for inputs, labels in dataloaders[phase]:\n",
    "                inputs = inputs.to(device)\n",
    "                labels = labels.to(device)\n",
    "            \n",
    "                optimizer.zero_grad()\n",
    "                \n",
    "                with torch.set_grad_enabled(phase == 'train'):\n",
    "                    outputs = model(inputs)\n",
    "                    loss = criterion(outputs, labels)\n",
    "                    predicted = torch.argmax(outputs)\n",
    "                    \n",
    "                    if phase == 'train':\n",
    "                        loss.backward()\n",
    "                        optimizer.step()\n",
    "                \n",
    "                loss += loss.item() * inputs.size(0)\n",
    "                corrects += torch.sum(predicted == labels.data)\n",
    "            \n",
    "            epoch_loss = loss / datasize[phase]\n",
    "            epoch_acc = corrects/ datasize[phase]\n",
    "            \n",
    "            if epoch_acc > best_acc:\n",
    "                best_acc = epoch_acc\n",
    "            \n",
    "            print(f'{phase} Loss: {epoch_loss:.4f} Acc: {epoch_acc:.4f}')\n",
    "            \n",
    "    time_elapsed = time.time() - start_time\n",
    "    print('Training complete in {time_elapsed:.0f}m {:.0f}s'.format(\n",
    "        time_elapsed // 60, time_elapsed % 60))\n",
    "    print(f'Best val Acc: {best_acc:4f}')"
   ]
  },
  {
   "cell_type": "code",
   "execution_count": null,
   "id": "minimal-reason",
   "metadata": {},
   "outputs": [],
   "source": [
    "model = create_model()\n",
    "\n",
    "device = torch.device(\"cuda:0\" if torch.cuda.is_available() else \"cpu\")\n",
    "\n",
    "dataloaders = dict()\n",
    "dataloaders['train'], dataloaders['val'] = dataset_loaders()\n",
    "\n",
    "criterion = nn.CrossEntropyLoss()\n",
    "\n",
    "optimizer = optim.SGD(model.parameters(), lr=1e-3, momentum=0.9)\n",
    "\n",
    "train(model, criterion, optimizer, dataloaders)"
   ]
  },
  {
   "cell_type": "code",
   "execution_count": null,
   "id": "biblical-wallace",
   "metadata": {},
   "outputs": [],
   "source": []
  }
 ],
 "metadata": {
  "kernelspec": {
   "display_name": "PyTorch-1.6.0",
   "language": "python",
   "name": "pytorch-1.6.0"
  },
  "language_info": {
   "codemirror_mode": {
    "name": "ipython",
    "version": 3
   },
   "file_extension": ".py",
   "mimetype": "text/x-python",
   "name": "python",
   "nbconvert_exporter": "python",
   "pygments_lexer": "ipython3",
   "version": "3.8.5"
  }
 },
 "nbformat": 4,
 "nbformat_minor": 5
}
