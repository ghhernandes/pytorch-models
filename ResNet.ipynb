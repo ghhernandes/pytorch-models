{
 "cells": [
  {
   "cell_type": "code",
   "execution_count": null,
   "metadata": {},
   "outputs": [],
   "source": [
    "from resnet.ResNet import ResNet18, ResNet34, ResNet50, ResNet101, ResNet152\n",
    "from torchvision import models, datasets\n",
    "import torchvision.transforms as transforms\n",
    "import torch.nn as nn\n",
    "import torch\n",
    "import torchvision\n",
    "import os\n",
    "\n",
    "def save_and_load(model, model_scratch, path):\n",
    "    torch.save(model.state_dict(), os.path.join('resnet/models/', path))\n",
    "    return model_scratch.load_state_dict(torch.load(os.path.join('resnet/models/', path)))"
   ]
  },
  {
   "cell_type": "code",
   "execution_count": null,
   "metadata": {},
   "outputs": [],
   "source": [
    "rn = ResNet18()\n",
    "save_and_load(models.resnet18(pretrained=True), rn, 'resnet18.pth')"
   ]
  },
  {
   "cell_type": "code",
   "execution_count": null,
   "metadata": {},
   "outputs": [],
   "source": [
    "rn = ResNet34()\n",
    "save_and_load(models.resnet34(pretrained=True), rn, 'resnet34.pth')"
   ]
  },
  {
   "cell_type": "code",
   "execution_count": null,
   "metadata": {},
   "outputs": [],
   "source": [
    "rn = ResNet50()\n",
    "save_and_load(models.resnet50(pretrained=True), rn, 'resnet50.pth')"
   ]
  },
  {
   "cell_type": "code",
   "execution_count": null,
   "metadata": {},
   "outputs": [],
   "source": [
    "rn = ResNet101()\n",
    "save_and_load(models.resnet101(pretrained=True), rn, 'resnet101.pth')"
   ]
  },
  {
   "cell_type": "code",
   "execution_count": null,
   "metadata": {},
   "outputs": [],
   "source": [
    "rn = ResNet152()\n",
    "save_and_load(models.resnet152(pretrained=True), rn, 'resnet152.pth')"
   ]
  },
  {
   "cell_type": "code",
   "execution_count": null,
   "metadata": {},
   "outputs": [],
   "source": []
  }
 ],
 "metadata": {
  "kernelspec": {
   "display_name": "PyTorch-1.6.0",
   "language": "python",
   "name": "pytorch-1.6.0"
  },
  "language_info": {
   "codemirror_mode": {
    "name": "ipython",
    "version": 3
   },
   "file_extension": ".py",
   "mimetype": "text/x-python",
   "name": "python",
   "nbconvert_exporter": "python",
   "pygments_lexer": "ipython3",
   "version": "3.8.5"
  }
 },
 "nbformat": 4,
 "nbformat_minor": 4
}
